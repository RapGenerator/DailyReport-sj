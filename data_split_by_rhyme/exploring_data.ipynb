{
 "cells": [
  {
   "cell_type": "code",
   "execution_count": 7,
   "metadata": {},
   "outputs": [],
   "source": [
    "import codecs\n",
    "filename = 'df_all_pinyin_clear.csv'\n",
    "# f = codecs.open(filename, 'r', encoding='UTF-8')"
   ]
  },
  {
   "cell_type": "code",
   "execution_count": 5,
   "metadata": {},
   "outputs": [
    {
     "name": "stderr",
     "output_type": "stream",
     "text": [
      "/usr/lib/python3.6/importlib/_bootstrap.py:219: RuntimeWarning: numpy.dtype size changed, may indicate binary incompatibility. Expected 96, got 88\n",
      "  return f(*args, **kwds)\n",
      "/usr/lib/python3.6/importlib/_bootstrap.py:219: RuntimeWarning: numpy.dtype size changed, may indicate binary incompatibility. Expected 96, got 88\n",
      "  return f(*args, **kwds)\n"
     ]
    }
   ],
   "source": [
    "import pandas as pd\n",
    "import numpy as np\n",
    "import matplotlib.pyplot as plt"
   ]
  },
  {
   "cell_type": "code",
   "execution_count": 10,
   "metadata": {},
   "outputs": [],
   "source": [
    "df = pd.read_csv(filename, header=0, encoding='UTF-8')\n",
    "# df.head(6)"
   ]
  },
  {
   "cell_type": "code",
   "execution_count": 11,
   "metadata": {},
   "outputs": [
    {
     "name": "stdout",
     "output_type": "stream",
     "text": [
      "75150\n"
     ]
    }
   ],
   "source": [
    "print(len(df))\n",
    "lyrics = list(df.lyrics)"
   ]
  },
  {
   "cell_type": "code",
   "execution_count": 54,
   "metadata": {},
   "outputs": [
    {
     "data": {
      "text/plain": [
       "[('i', 10824),\n",
       " ('e', 5657),\n",
       " ('u', 4866),\n",
       " ('ian', 4713),\n",
       " ('ou', 3392),\n",
       " ('an', 3183),\n",
       " ('ai', 3140),\n",
       " ('ao', 2999),\n",
       " ('a', 2891),\n",
       " ('uo', 2756),\n",
       " ('ing', 2752),\n",
       " ('ang', 2665),\n",
       " ('ei', 2042),\n",
       " ('ong', 1888),\n",
       " ('ui', 1868),\n",
       " ('en', 1573),\n",
       " ('o', 1464),\n",
       " ('uan', 1446),\n",
       " ('in', 1436),\n",
       " ('eng', 1285),\n",
       " ('iao', 1254),\n",
       " ('ie', 1059),\n",
       " ('iang', 1029),\n",
       " ('ia', 824),\n",
       " ('ua', 812),\n",
       " ('iu', 704),\n",
       " ('y', 613),\n",
       " ('uang', 567),\n",
       " ('un', 472),\n",
       " ('uai', 403),\n",
       " ('t', 342),\n",
       " ('ue', 339),\n",
       " ('h', 231),\n",
       " ('r', 223),\n",
       " ('n', 201),\n",
       " ('w', 193),\n",
       " ('l', 193),\n",
       " ('er', 192),\n",
       " ('？', 190),\n",
       " ('g', 164),\n",
       " ('p', 157),\n",
       " ('v', 151),\n",
       " ('d', 142),\n",
       " ('s', 121),\n",
       " ('k', 110),\n",
       " ('?', 101),\n",
       " ('.', 86),\n",
       " ('~', 84),\n",
       " ('”', 79),\n",
       " ('！', 75),\n",
       " ('iong', 69),\n",
       " ('E', 65),\n",
       " (' ', 59),\n",
       " ('m', 56),\n",
       " ('P', 56),\n",
       " ('Y', 52),\n",
       " ('2', 48),\n",
       " ('O', 38),\n",
       " ('G', 35),\n",
       " ('\\u3000', 35),\n",
       " ('T', 33),\n",
       " ('K', 31),\n",
       " ('H', 31),\n",
       " ('A', 29),\n",
       " ('c', 29),\n",
       " ('3', 28),\n",
       " ('4', 28),\n",
       " ('D', 28),\n",
       " ('0', 27),\n",
       " ('R', 26),\n",
       " ('】', 23),\n",
       " ('》', 21),\n",
       " ('f', 20),\n",
       " ('1', 19),\n",
       " ('C', 18),\n",
       " ('ve', 18),\n",
       " ('L', 18),\n",
       " ('N', 18),\n",
       " ('I', 16),\n",
       " ('J', 13),\n",
       " ('V', 13),\n",
       " ('6', 12),\n",
       " ('W', 12),\n",
       " ('7', 12),\n",
       " ('\"', 12),\n",
       " ('x', 10),\n",
       " ('8', 10),\n",
       " ('-', 10),\n",
       " ('b', 9),\n",
       " ('M', 9),\n",
       " ('z', 9),\n",
       " ('…', 8),\n",
       " ('Z', 8),\n",
       " ('U', 8),\n",
       " ('B', 6),\n",
       " ('S', 6),\n",
       " ('5', 5),\n",
       " ('9', 5),\n",
       " ('F', 4),\n",
       " ('X', 4),\n",
       " (\"'\", 4),\n",
       " ('～', 4),\n",
       " ('>', 4),\n",
       " ('’', 3),\n",
       " ('］', 3),\n",
       " ('\\xa0', 2),\n",
       " ('$', 2),\n",
       " ('」', 2),\n",
       " ('/', 2),\n",
       " ('·', 2),\n",
       " ('*', 2),\n",
       " ('―', 1),\n",
       " ('+', 1),\n",
       " ('“', 1),\n",
       " ('ｗ', 1),\n",
       " ('－', 1),\n",
       " ('Ｄ', 1),\n",
       " ('ク', 1),\n",
       " ('ㄣ', 1),\n",
       " ('°', 1),\n",
       " ('り', 1)]"
      ]
     },
     "execution_count": 54,
     "metadata": {},
     "output_type": "execute_result"
    }
   ],
   "source": [
    "from collections import Counter\n",
    "yun = Counter([lazy_pinyin(single[-1], style=Style.FINALS, strict=False)[0] for single in lyrics])\n",
    "yun.most_common()"
   ]
  },
  {
   "cell_type": "code",
   "execution_count": 57,
   "metadata": {},
   "outputs": [],
   "source": [
    "i_lyrics = [single for single in lyrics if lazy_pinyin(single[-1], style=Style.FINALS, strict=False)[0] == 'i']\n",
    "with codecs.open('i_intail.txt', 'w', encoding = 'utf-8') as f:\n",
    "    for line in i_lyrics:\n",
    "        f.write(line + '\\n')"
   ]
  },
  {
   "cell_type": "code",
   "execution_count": 21,
   "metadata": {},
   "outputs": [
    {
     "name": "stdout",
     "output_type": "stream",
     "text": [
      "0           腿 搁在办公桌上\n",
      "1        这五六分钟我只关心说唱\n",
      "2    大脑像硬币投进的湖里的波浪激荡\n",
      "3      如果你们智商170和我一样\n",
      "Name: lyrics, dtype: object\n",
      "<class 'pandas.core.series.Series'>\n"
     ]
    },
    {
     "data": {
      "text/plain": [
       "['腿 搁在办公桌上', '这五六分钟我只关心说唱', '大脑像硬币投进的湖里的波浪激荡', '如果你们智商170和我一样']"
      ]
     },
     "execution_count": 21,
     "metadata": {},
     "output_type": "execute_result"
    }
   ],
   "source": [
    "s = df.lyrics[:4]\n",
    "print(s)\n",
    "print(type(s))\n",
    "s = list(s)\n",
    "s"
   ]
  },
  {
   "cell_type": "code",
   "execution_count": 12,
   "metadata": {},
   "outputs": [],
   "source": [
    "from pypinyin import Style, lazy_pinyin"
   ]
  },
  {
   "cell_type": "code",
   "execution_count": 33,
   "metadata": {},
   "outputs": [],
   "source": [
    "def isyayun(lyrics, n):\n",
    "    tone = [lazy_pinyin(single[-n:], style=Style.FINALS_TONE, strict=False) for single in lyrics]\n",
    "    print(tone)\n",
    "    print([i == j for i, j in zip(tone[0], tone[1])])"
   ]
  },
  {
   "cell_type": "code",
   "execution_count": 32,
   "metadata": {},
   "outputs": [
    {
     "name": "stdout",
     "output_type": "stream",
     "text": [
      "[['uō', 'àng'], ['uō', 'àng'], ['ī', 'àng'], ['ī', 'àng']]\n"
     ]
    }
   ],
   "source": [
    "yayun(s, 2)"
   ]
  },
  {
   "cell_type": "code",
   "execution_count": 41,
   "metadata": {},
   "outputs": [
    {
     "name": "stdout",
     "output_type": "stream",
     "text": [
      "[['àn', 'ōng', 'uō', 'àng'], ['uān', 'īn', 'uō', 'àng'], ['ō', 'àng', 'ī', 'àng'], ['é', 'ǒ', 'ī', 'àng']]\n",
      "[False, False, True, True]\n"
     ]
    },
    {
     "data": {
      "text/plain": [
       "2"
      ]
     },
     "execution_count": 41,
     "metadata": {},
     "output_type": "execute_result"
    }
   ],
   "source": [
    "lyrics = s\n",
    "n = 4\n",
    "tone = [lazy_pinyin(single[-n:], style=Style.FINALS_TONE, strict=False) for single in lyrics]\n",
    "print(tone)\n",
    "print([i == j for i, j in zip(tone[0], tone[1])])\n",
    "sum([i == j for i, j in zip(tone[0], tone[1])])"
   ]
  },
  {
   "cell_type": "code",
   "execution_count": 13,
   "metadata": {},
   "outputs": [
    {
     "name": "stdout",
     "output_type": "stream",
     "text": [
      "32\n"
     ]
    }
   ],
   "source": [
    "tone_list = [('i', 10824), ('e', 5657), ('u', 4866), ('ian', 4713), ('ou', 3392), ('an', 3183), ('ai', 3140), ('ao', 2999), ('a', 2891), ('uo', 2756), ('ing', 2752), ('ang', 2665), ('ei', 2042), ('ong', 1888), ('ui', 1868), ('en', 1573), ('o', 1464), ('uan', 1446), ('in', 1436), ('eng', 1285), ('iao', 1254), ('ie', 1059), ('iang', 1029), ('ia', 824), ('ua', 812), ('iu', 704), ('y', 613), ('uang', 567), ('un', 472), ('uai', 403), ('t', 342), ('ue', 339)]\n",
    "print(len(tone_list))\n",
    "for tone, _ in tone_list:\n",
    "    tmp_lyrics = [single for single in lyrics if lazy_pinyin(single[-1], style=Style.FINALS, strict=False)[0] == tone]\n",
    "    with codecs.open(tone + '_intail.txt', 'w', encoding = 'utf-8') as f:\n",
    "        for line in tmp_lyrics:\n",
    "            f.write(line + '\\n')"
   ]
  }
 ],
 "metadata": {
  "kernelspec": {
   "display_name": "Python 3",
   "language": "python",
   "name": "python3"
  },
  "language_info": {
   "codemirror_mode": {
    "name": "ipython",
    "version": 3
   },
   "file_extension": ".py",
   "mimetype": "text/x-python",
   "name": "python",
   "nbconvert_exporter": "python",
   "pygments_lexer": "ipython3",
   "version": "3.6.3"
  }
 },
 "nbformat": 4,
 "nbformat_minor": 2
}
