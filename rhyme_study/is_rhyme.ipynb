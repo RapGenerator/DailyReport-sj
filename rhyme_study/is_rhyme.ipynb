{
 "cells": [
  {
   "cell_type": "code",
   "execution_count": 1,
   "metadata": {},
   "outputs": [],
   "source": [
    "yun = {\n",
    "    'i': 'i',\n",
    "    'u': 'u',\n",
    "    'v': 'v',\n",
    "    'a': 'a', 'ia': 'a', 'ua': 'a',\n",
    "    'o': 'o', 'uo': 'o',\n",
    "    'e': 'e', 'ie': 'e', 'ue': 'e', 've': 'e', 'er': 'e',\n",
    "    'ai': 'ai', 'uai': 'ai',\n",
    "    'ei': 'ei', 'uei': 'ei',\n",
    "    'ao': 'ao', 'iao': 'ao',\n",
    "    'ou': 'ou', 'iou': 'ou',\n",
    "    'an': 'an', 'ian': 'an', 'uan': 'an', 'van': 'an',\n",
    "    'en': 'en', 'uen': 'en', 'eng': 'eng',\n",
    "    'in': 'in', 'ing': 'ing',\n",
    "    'vn': 'vn',\n",
    "    'ang': 'ang', 'iang': 'ang', 'uang': 'ang',\n",
    "    'ong': 'ong', 'iong': 'ong'\n",
    "}\n",
    "yun_strict = {\n",
    "    'i': 'i',\n",
    "    'u': 'u',\n",
    "    'v': 'v',\n",
    "    'a': 'a', 'ia': 'a', 'ua': 'a',\n",
    "    'o': 'o', 'uo': 'o',\n",
    "    'e': 'e', 'ie': 'e', 'ue': 'e', 've': 'e', 'er': 'e',\n",
    "    'ai': 'ai', 'uai': 'ai',\n",
    "    'ei': 'ei', 'uei': 'ei',\n",
    "    'ao': 'ao', 'iao': 'ao',\n",
    "    'ou': 'ou', 'iou': 'ou',\n",
    "    'an': 'an', 'ian': 'an', 'uan': 'an', 'van': 'an',\n",
    "    'en': 'en', 'uen': 'en',\n",
    "    'in': 'in',\n",
    "    'vn': 'vn',\n",
    "    'ang': 'ang', 'iang': 'ang', 'uang': 'ang',\n",
    "    'eng': 'eng',\n",
    "    'ing': 'ing',\n",
    "    'ong': 'ong', 'iong': 'ong'\n",
    "}\n",
    "yun_not_strict = {\n",
    "    'i': 'i',\n",
    "    'u': 'u',\n",
    "    'a': 'a', 'ia': 'a', 'ua': 'a',\n",
    "    'o': 'o', 'uo': 'o',\n",
    "    'e': 'e', 'ie': 'e', 'ue': 'e', 'er': 'e',\n",
    "    'ai': 'ai', 'uai': 'ai',\n",
    "    'ei': 'ei', 'ui': 'ei',\n",
    "    'ao': 'ao', 'iao': 'ao',\n",
    "    'ou': 'ou', 'iu': 'ou',\n",
    "    'an': 'an', 'ian': 'an', 'uan': 'an',\n",
    "    'en': 'en', 'un': 'en', 'eng': 'en',\n",
    "    'in': 'in', 'ing': 'in',\n",
    "    'ang': 'ang', 'iang': 'ang', 'uang': 'ang',\n",
    "    'ong': 'ong', 'iong': 'ong'\n",
    "}"
   ]
  },
  {
   "cell_type": "code",
   "execution_count": 4,
   "metadata": {},
   "outputs": [],
   "source": [
    "def is_rhyme(a : str, b : str, strict_or_not = False):\n",
    "    if strict_or_not:\n",
    "        return yun_strict[a] == yun_strict[b]\n",
    "    else:\n",
    "        return yun_not_strict[a] == yun_not_strict[b]"
   ]
  },
  {
   "cell_type": "code",
   "execution_count": null,
   "metadata": {},
   "outputs": [],
   "source": [
    "def is_rhyme(a : str, b : str):\n",
    "    return yun[a] == yun[b]"
   ]
  },
  {
   "cell_type": "code",
   "execution_count": 6,
   "metadata": {},
   "outputs": [
    {
     "name": "stdout",
     "output_type": "stream",
     "text": [
      "True\n",
      "False\n"
     ]
    }
   ],
   "source": [
    "print(is_rhyme('uen', 'eng'))\n",
    "print(is_rhyme('uen', 'eng', True))"
   ]
  },
  {
   "cell_type": "code",
   "execution_count": null,
   "metadata": {},
   "outputs": [],
   "source": []
  }
 ],
 "metadata": {
  "kernelspec": {
   "display_name": "Python 3",
   "language": "python",
   "name": "python3"
  },
  "language_info": {
   "codemirror_mode": {
    "name": "ipython",
    "version": 3
   },
   "file_extension": ".py",
   "mimetype": "text/x-python",
   "name": "python",
   "nbconvert_exporter": "python",
   "pygments_lexer": "ipython3",
   "version": "3.6.3"
  }
 },
 "nbformat": 4,
 "nbformat_minor": 2
}
