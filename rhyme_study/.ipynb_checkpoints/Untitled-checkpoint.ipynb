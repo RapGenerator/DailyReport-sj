{
 "cells": [
  {
   "cell_type": "code",
   "execution_count": null,
   "metadata": {},
   "outputs": [],
   "source": [
    "yun_strict = {\n",
    "    'i': 'i',\n",
    "    'u': 'u',\n",
    "    'v': 'v',\n",
    "    'a': 'a', 'ia': 'a', 'ua': 'a',\n",
    "    'o': 'o', 'uo': 'o',\n",
    "    'e': 'e', 'ie': 'e', 've': 'e',\n",
    "    'ai': 'ai', 'uai': 'ai',\n",
    "    'ei': 'ei', 'uei': 'ei',\n",
    "    'ao': 'ao', 'iao': 'ao',\n",
    "    'ou': 'ou', 'iou': 'ou',\n",
    "    'an': 'an', 'ian': 'an', 'uan': 'an',\n",
    "    'en': 'en', 'uen': 'en',\n",
    "    'in': 'in',\n",
    "    'vn': 'vn',\n",
    "    'ang': 'ang', 'iang': 'ang', 'uang': 'ang',\n",
    "    'eng': 'eng',\n",
    "    'ing': 'ing',\n",
    "    'ong': 'ong', 'iong': 'ong'\n",
    "}\n",
    "yun_not_strict = {\n",
    "    'i': 'i',\n",
    "    'u': 'u',\n",
    "    'a': 'a', 'ia': 'a', 'ua': 'a',\n",
    "    'o': 'o', 'uo': 'o',\n",
    "    'e': 'e', 'ie': 'e', 'ue': 'e',\n",
    "    'ai': 'ai', 'uai': 'ai',\n",
    "    'ei': 'ei', 'ui': 'ei',\n",
    "    'ao': 'ao', 'iao': 'ao',\n",
    "    'ou': 'ou', 'iu': 'ou',\n",
    "    'an': 'an', 'ian': 'an', 'uan': 'an',\n",
    "    'en': 'en', 'uen': 'en', 'eng': 'en',\n",
    "    'in': 'in', 'ing': 'in',\n",
    "    'ang': 'ang', 'iang': 'ang', 'uang': 'ang',\n",
    "    'ong': 'ong', 'iong': 'ong'\n",
    "}"
   ]
  },
  {
   "cell_type": "code",
   "execution_count": null,
   "metadata": {},
   "outputs": [],
   "source": [
    "def get_yun(str: a, str: b, strict_or_not = False):\n",
    "    if strict_or_not:\n",
    "        return yun_strict[a] = yun_strict[b]\n",
    "    else:\n",
    "        return yun_not_strict[a] = yun_not_strict[b]"
   ]
  }
 ],
 "metadata": {
  "kernelspec": {
   "display_name": "Python 3",
   "language": "python",
   "name": "python3"
  },
  "language_info": {
   "codemirror_mode": {
    "name": "ipython",
    "version": 3
   },
   "file_extension": ".py",
   "mimetype": "text/x-python",
   "name": "python",
   "nbconvert_exporter": "python",
   "pygments_lexer": "ipython3",
   "version": "3.6.3"
  }
 },
 "nbformat": 4,
 "nbformat_minor": 2
}
